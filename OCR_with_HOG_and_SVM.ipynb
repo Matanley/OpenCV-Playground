{
 "cells": [
  {
   "cell_type": "code",
   "execution_count": 4,
   "metadata": {},
   "outputs": [],
   "source": [
    "# This code is modified from Opencv SVM tutorial\n",
    "# https://docs.opencv.org/trunk/d3/d02/tutorial_py_svm_index.html"
   ]
  },
  {
   "cell_type": "code",
   "execution_count": 1,
   "metadata": {},
   "outputs": [],
   "source": [
    "import cv2\n",
    "import numpy as np\n",
    "import matplotlib.pyplot as plt"
   ]
  },
  {
   "cell_type": "code",
   "execution_count": null,
   "metadata": {},
   "outputs": [],
   "source": [
    "# Deskewing the image with its second order moments\n",
    "def deskew(img):\n",
    "    moments = cv2.moments(img)\n",
    "    if abs(moments['mu02']) < 1e-2:\n",
    "        # No deskewing is needed\n",
    "        return img.copy()\n",
    "    # Calculate the skew based on central moments\n",
    "    skew = moments['mu11'] / moments['mu02']\n",
    "    mat = np.float32([[1, skew, -0.5*size*skew], [0, 1, 0]])\n",
    "    img = cv2.warpAffine(img, mat, (size, size), flags=cv2.WARP_INVERSE_MAP | cv2.INTER_LINEAR)\n",
    "    \n",
    "    return img\n",
    "\n",
    "def hog(img):\n",
    "    gx = cv2.Sobel(img, cv2.CV_32F, 1, 0)\n",
    "    gy = cv2.Sobel(img, cv2.CV_32F, 0, 1)\n",
    "    magnitude, angle = cv2.cartToPolar(gx, gy)\n",
    "    # quantizing binvalues in (0 - 16)\n",
    "    bins = np.int32(num_bins * angle / (2 * np.pi))\n",
    "    bin_cells = bins[:10, :10], bins[10:, :10], bins[:10, 10:], bins[10:, 10:]\n",
    "    mag_cells = magnitude[:10, :10], magnitude[10:, :10], magnitude[:10, 10:], magnitude[10:, 10:]\n",
    "    hists = [np.bincount(b.ravel(), m.ravel(), num_bins) for b, m in zip(bin_cells, mag_cells)]\n",
    "    hist = np.hstack(hists)\n",
    "    \n",
    "    return hist"
   ]
  },
  {
   "cell_type": "code",
   "execution_count": 8,
   "metadata": {},
   "outputs": [
    {
     "data": {
      "text/plain": [
       "(50, 50, 20, 20)"
      ]
     },
     "execution_count": 8,
     "metadata": {},
     "output_type": "execute_result"
    }
   ],
   "source": [
    "size = 20\n",
    "num_bins = 16\n",
    "\n",
    "# Data preparation\n",
    "img= cv2.imread('images/digits.png', 0)\n",
    "\n",
    "if img is None:\n",
    "    raise Exception(\"Please check the availability of the digits.png file!\")\n",
    "\n",
    "# Split the image to 5000 cells with each in size 20x20\n",
    "cells = [np.hsplit(row, 100) for row in np.vsplit(gray, 50)]\n",
    "train_cells = [i[:50] for i in cells]\n",
    "test_cells = [i[50:] for i in cells]"
   ]
  },
  {
   "cell_type": "code",
   "execution_count": 9,
   "metadata": {},
   "outputs": [],
   "source": [
    "deskewed = [list(map(deskew, row)) for row in train_cells]\n",
    "hog_data = [list(map(hog, row)) for row in deskewed]\n",
    "train_data = np.float32(hog_data).reshape(-1, 64)\n",
    "labels = np.repeat(np.arange(10), 250)[:, np.newaxis]"
   ]
  },
  {
   "cell_type": "code",
   "execution_count": 12,
   "metadata": {},
   "outputs": [],
   "source": [
    "# Initialize the SVM model and train the data\n",
    "svm = cv2.ml.SVM_create()\n",
    "svm.setKernel(cv2.ml.SVM_LINEAR)\n",
    "svm.setType(cv2.ml.SVM_C_SVC)\n",
    "# Below two parameters are gained by trial and error\n",
    "svm.setC(2.67)\n",
    "svm.setGamma(5.383)\n",
    "\n",
    "svm.train(train_data, cv2.ml.ROW_SAMPLE, labels)\n",
    "svm.save('svm_data.dat')"
   ]
  },
  {
   "cell_type": "code",
   "execution_count": 14,
   "metadata": {},
   "outputs": [],
   "source": [
    "# Test the SVM model\n",
    "deskewed_test = [list(map(deskew, row)) for row in test_cells]\n",
    "hog_test = [list(map(hog, row)) for row in deskewed_test]\n",
    "test_data = np.float32(hog_test).reshape(-1, 64)\n",
    "predictions = svm.predict(test_data)[1]"
   ]
  },
  {
   "cell_type": "code",
   "execution_count": 19,
   "metadata": {},
   "outputs": [
    {
     "name": "stdout",
     "output_type": "stream",
     "text": [
      "0.938\n"
     ]
    }
   ],
   "source": [
    "#mask = np.array(result==responses)\n",
    "#correct = np.count_nonzero(mask)\n",
    "#print(correct * 100.0/ result.size)\n",
    "\n",
    "accuracy = (predictions == responses).mean()\n",
    "print(accuracy)"
   ]
  }
 ],
 "metadata": {
  "kernelspec": {
   "display_name": "Python 3",
   "language": "python",
   "name": "python3"
  },
  "language_info": {
   "codemirror_mode": {
    "name": "ipython",
    "version": 3
   },
   "file_extension": ".py",
   "mimetype": "text/x-python",
   "name": "python",
   "nbconvert_exporter": "python",
   "pygments_lexer": "ipython3",
   "version": "3.5.4"
  }
 },
 "nbformat": 4,
 "nbformat_minor": 2
}
